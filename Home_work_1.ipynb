{
 "cells": [
  {
   "cell_type": "markdown",
   "id": "63bae20a",
   "metadata": {},
   "source": [
    "# Домашняя работа"
   ]
  },
  {
   "cell_type": "markdown",
   "id": "228fb4b8",
   "metadata": {},
   "source": [
    "Сделайте mapper и reducer, чтобы посчитать среднее и дисперсию оценок за фильм."
   ]
  },
  {
   "cell_type": "markdown",
   "id": "6b539b7a",
   "metadata": {},
   "source": [
    "Реализация через цикл (предпогаем, что мы не знаем сколько у нас фильмов):"
   ]
  },
  {
   "cell_type": "code",
   "execution_count": 2,
   "id": "1c55ea97",
   "metadata": {},
   "outputs": [
    {
     "ename": "NameError",
     "evalue": "name 'Path' is not defined",
     "output_type": "error",
     "traceback": [
      "\u001b[1;31m---------------------------------------------------------------------------\u001b[0m",
      "\u001b[1;31mNameError\u001b[0m                                 Traceback (most recent call last)",
      "\u001b[1;32m~\\AppData\\Local\\Temp\\ipykernel_8236\\1707066127.py\u001b[0m in \u001b[0;36m<module>\u001b[1;34m\u001b[0m\n\u001b[0;32m      3\u001b[0m \u001b[1;33m\u001b[0m\u001b[0m\n\u001b[0;32m      4\u001b[0m \u001b[0mn\u001b[0m\u001b[1;33m,\u001b[0m \u001b[0mmean\u001b[0m\u001b[1;33m,\u001b[0m \u001b[0mM2\u001b[0m \u001b[1;33m=\u001b[0m \u001b[1;36m0\u001b[0m\u001b[1;33m,\u001b[0m \u001b[1;36m0.0\u001b[0m\u001b[1;33m,\u001b[0m \u001b[1;36m0\u001b[0m\u001b[1;33m\u001b[0m\u001b[1;33m\u001b[0m\u001b[0m\n\u001b[1;32m----> 5\u001b[1;33m \u001b[1;32mfor\u001b[0m \u001b[0mpath\u001b[0m \u001b[1;32min\u001b[0m \u001b[0mPath\u001b[0m\u001b[1;33m(\u001b[0m\u001b[1;34m'imdb-user-reviews'\u001b[0m\u001b[1;33m)\u001b[0m\u001b[1;33m.\u001b[0m\u001b[0mglob\u001b[0m\u001b[1;33m(\u001b[0m\u001b[1;34m'**/*'\u001b[0m\u001b[1;33m)\u001b[0m\u001b[1;33m:\u001b[0m\u001b[1;33m\u001b[0m\u001b[1;33m\u001b[0m\u001b[0m\n\u001b[0m\u001b[0;32m      6\u001b[0m     \u001b[1;32mif\u001b[0m \u001b[0mpath\u001b[0m\u001b[1;33m.\u001b[0m\u001b[0mis_file\u001b[0m\u001b[1;33m(\u001b[0m\u001b[1;33m)\u001b[0m \u001b[1;32mand\u001b[0m \u001b[0mpath\u001b[0m\u001b[1;33m.\u001b[0m\u001b[0msuffix\u001b[0m \u001b[1;33m==\u001b[0m \u001b[1;34m'.json'\u001b[0m\u001b[1;33m:\u001b[0m\u001b[1;33m\u001b[0m\u001b[1;33m\u001b[0m\u001b[0m\n\u001b[0;32m      7\u001b[0m         \u001b[1;32mwith\u001b[0m \u001b[0mopen\u001b[0m\u001b[1;33m(\u001b[0m\u001b[0mpath\u001b[0m\u001b[1;33m,\u001b[0m \u001b[1;34m'r'\u001b[0m\u001b[1;33m)\u001b[0m \u001b[1;32mas\u001b[0m \u001b[0mf\u001b[0m\u001b[1;33m:\u001b[0m\u001b[1;33m\u001b[0m\u001b[1;33m\u001b[0m\u001b[0m\n",
      "\u001b[1;31mNameError\u001b[0m: name 'Path' is not defined"
     ]
    }
   ],
   "source": [
    "import json\n",
    "\n",
    "\n",
    "n, mean, M2 = 0, 0.0, 0\n",
    "for path in Path('imdb-user-reviews').glob('**/*'):\n",
    "    if path.is_file() and path.suffix == '.json':\n",
    "        with open(path, 'r') as f:\n",
    "            info = json.load(f)\n",
    "        score = float(info['movieIMDbRating'])\n",
    "        n += 1\n",
    "        delta = score - mean\n",
    "        mean += delta / n\n",
    "        M2 += delta * (score - mean)\n",
    "\n",
    "print(mean, (M2 / n) ** (1/2))"
   ]
  },
  {
   "cell_type": "markdown",
   "id": "5e63c6ae",
   "metadata": {},
   "source": [
    "На основе этого кода соберите mapper и reducer:"
   ]
  },
  {
   "cell_type": "code",
   "execution_count": 3,
   "id": "656bd3e7",
   "metadata": {},
   "outputs": [],
   "source": [
    "def mapper(path):\n",
    "    # Ваш код\n",
    "    return (score, )\n",
    "\n",
    "\n",
    "def reducer(score_data1, score_data2):\n",
    "    #  Ваш код\n",
    "    return n, mean, M2"
   ]
  },
  {
   "cell_type": "code",
   "execution_count": 4,
   "id": "fd94e399",
   "metadata": {},
   "outputs": [],
   "source": [
    "from functools import reduce\n",
    "from joblib import Parallel, delayed\n",
    "from multiprocessing import Pool\n",
    "from pathlib import Path"
   ]
  },
  {
   "cell_type": "code",
   "execution_count": 5,
   "id": "7aeeed9c",
   "metadata": {},
   "outputs": [],
   "source": [
    "def mapper(path):\n",
    "    if path.is_file() and path.suffix == '.json':\n",
    "        with open(path, 'r') as f:\n",
    "            info = json.load(f)\n",
    "        return (float(info['movieIMDbRating']), )\n",
    "\n",
    "\n",
    "def reducer(score_data1, score_data2):\n",
    "    if score_data1 is None and score_data2 is None:\n",
    "        return None\n",
    "    elif score_data1 is None:\n",
    "        return score_data2\n",
    "    elif score_data2 is None:\n",
    "        return score_data1\n",
    "    else:\n",
    "        scores = []\n",
    "        if len(score_data1) == 1:\n",
    "            n, mean, M2 = 0, 0.0, 0\n",
    "            scores.append(score_data1[0])\n",
    "        else:\n",
    "            n, mean, M2 = score_data1\n",
    "        scores.append(score_data2[0])\n",
    "        for score in scores:\n",
    "            n += 1\n",
    "            delta = score - mean\n",
    "            mean += delta / n\n",
    "            M2 += delta * (score - mean)\n",
    "        return n, mean, M2"
   ]
  },
  {
   "cell_type": "code",
   "execution_count": 6,
   "id": "d0a9048b",
   "metadata": {},
   "outputs": [
    {
     "name": "stdout",
     "output_type": "stream",
     "text": [
      "8.03 1.0517128885774865\n",
      "Wall time: 4.83 ms\n"
     ]
    }
   ],
   "source": [
    "%%time\n",
    "n, mean, M2 = reduce(reducer, map(mapper, Path('imdb-user-reviews').glob('**/*')))\n",
    "print(mean, (M2 / n) ** (1/2))"
   ]
  },
  {
   "cell_type": "code",
   "execution_count": 7,
   "id": "982a2f65",
   "metadata": {},
   "outputs": [
    {
     "name": "stdout",
     "output_type": "stream",
     "text": [
      "8.03 1.0517128885774865\n",
      "Wall time: 1.23 s\n"
     ]
    }
   ],
   "source": [
    "%%time\n",
    "n, mean, M2 = reduce(reducer, Parallel(n_jobs=2)(delayed(mapper)(path) for path in Path('imdb-user-reviews').glob('**/*')))\n",
    "print(mean, (M2 / n) ** (1/2))"
   ]
  },
  {
   "cell_type": "code",
   "execution_count": 8,
   "id": "15f07f56",
   "metadata": {},
   "outputs": [
    {
     "name": "stdout",
     "output_type": "stream",
     "text": [
      "8.03000000000032 1.0517128885774973\n",
      "Wall time: 2min 21s\n"
     ]
    }
   ],
   "source": [
    "%%time\n",
    "n, mean, M2 = reduce(reducer, map(mapper, list(Path('imdb-user-reviews').glob('**/*')) * 100_000))\n",
    "print(mean, (M2 / n) ** (1/2))"
   ]
  },
  {
   "cell_type": "code",
   "execution_count": 9,
   "id": "346a9baa",
   "metadata": {},
   "outputs": [
    {
     "name": "stdout",
     "output_type": "stream",
     "text": [
      "8.03000000000032 1.0517128885774973\n",
      "Wall time: 1min 22s\n"
     ]
    }
   ],
   "source": [
    "%%time\n",
    "n, mean, M2 = reduce(reducer, Parallel(n_jobs=2)(delayed(mapper)(path) for path in list(Path('imdb-user-reviews').glob('**/*')) * 100_000))\n",
    "print(mean, (M2 / n) ** (1/2))"
   ]
  },
  {
   "cell_type": "code",
   "execution_count": 10,
   "id": "d56134dd",
   "metadata": {},
   "outputs": [
    {
     "name": "stdout",
     "output_type": "stream",
     "text": [
      "8.03000000000032 1.0517128885774973\n",
      "Wall time: 53.3 s\n"
     ]
    }
   ],
   "source": [
    "%%time\n",
    "N = 4\n",
    "n, mean, M2 = reduce(reducer, Parallel(n_jobs=N)(delayed(mapper)(path) for path in list(Path('imdb-user-reviews').glob('**/*')) * 100_000))\n",
    "print(mean, (M2 / n) ** (1/2))"
   ]
  },
  {
   "cell_type": "code",
   "execution_count": 11,
   "id": "fa25b44d",
   "metadata": {},
   "outputs": [
    {
     "name": "stdout",
     "output_type": "stream",
     "text": [
      "8.03000000000032 1.0517128885774973\n",
      "Wall time: 50.5 s\n"
     ]
    }
   ],
   "source": [
    "%%time\n",
    "N = 6\n",
    "n, mean, M2 = reduce(reducer, Parallel(n_jobs=N)(delayed(mapper)(path) for path in list(Path('imdb-user-reviews').glob('**/*')) * 100_000))\n",
    "print(mean, (M2 / n) ** (1/2))"
   ]
  },
  {
   "cell_type": "code",
   "execution_count": 12,
   "id": "40fdfc5c",
   "metadata": {},
   "outputs": [
    {
     "name": "stdout",
     "output_type": "stream",
     "text": [
      "8.03000000000032 1.0517128885774973\n",
      "Wall time: 52.4 s\n"
     ]
    }
   ],
   "source": [
    "%%time\n",
    "N = 8\n",
    "n, mean, M2 = reduce(reducer, Parallel(n_jobs=N)(delayed(mapper)(path) for path in list(Path('imdb-user-reviews').glob('**/*')) * 100_000))\n",
    "print(mean, (M2 / n) ** (1/2))"
   ]
  },
  {
   "cell_type": "code",
   "execution_count": 13,
   "id": "aa3a81d0",
   "metadata": {},
   "outputs": [
    {
     "data": {
      "text/plain": [
       "12"
      ]
     },
     "execution_count": 13,
     "metadata": {},
     "output_type": "execute_result"
    }
   ],
   "source": [
    "import multiprocessing\n",
    "multiprocessing.cpu_count()"
   ]
  },
  {
   "cell_type": "markdown",
   "id": "31141571",
   "metadata": {},
   "source": [
    "# Тут поменял на 12, т.к. у меня 12 ядер"
   ]
  },
  {
   "cell_type": "code",
   "execution_count": 14,
   "id": "6820dee5",
   "metadata": {},
   "outputs": [
    {
     "name": "stdout",
     "output_type": "stream",
     "text": [
      "8.03000000000032 1.0517128885774973\n",
      "Wall time: 49.1 s\n"
     ]
    }
   ],
   "source": [
    "%%time\n",
    "N = 12\n",
    "n, mean, M2 = reduce(reducer, Parallel(n_jobs=N)(delayed(mapper)(path) for path in list(Path('imdb-user-reviews').glob('**/*')) * 100_000))\n",
    "print(mean, (M2 / n) ** (1/2))"
   ]
  },
  {
   "cell_type": "code",
   "execution_count": 16,
   "id": "efb63047",
   "metadata": {},
   "outputs": [
    {
     "name": "stdout",
     "output_type": "stream",
     "text": [
      "8.03000000000032 1.0517128885774973\n",
      "Wall time: 42.5 s\n"
     ]
    }
   ],
   "source": [
    "%%time\n",
    "N = 10\n",
    "n, mean, M2 = reduce(reducer, Parallel(n_jobs=N)(delayed(mapper)(path) for path in list(Path('imdb-user-reviews').glob('**/*')) * 100_000))\n",
    "print(mean, (M2 / n) ** (1/2))"
   ]
  },
  {
   "cell_type": "markdown",
   "id": "43254027",
   "metadata": {},
   "source": [
    "# Итог: эффективнее всего показала себя работа на 10 ядрах"
   ]
  }
 ],
 "metadata": {
  "kernelspec": {
   "display_name": "Python 3 (ipykernel)",
   "language": "python",
   "name": "python3"
  },
  "language_info": {
   "codemirror_mode": {
    "name": "ipython",
    "version": 3
   },
   "file_extension": ".py",
   "mimetype": "text/x-python",
   "name": "python",
   "nbconvert_exporter": "python",
   "pygments_lexer": "ipython3",
   "version": "3.9.13"
  }
 },
 "nbformat": 4,
 "nbformat_minor": 5
}
